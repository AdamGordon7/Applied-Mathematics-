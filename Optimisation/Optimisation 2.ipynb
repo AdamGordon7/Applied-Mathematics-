{
 "cells": [
  {
   "cell_type": "code",
   "execution_count": 30,
   "id": "9fbe135e",
   "metadata": {
    "deletable": false,
    "editable": false,
    "nbgrader": {
     "cell_type": "code",
     "checksum": "4b417ad7993721ba0b0bebd3ec651cf1",
     "grade": false,
     "grade_id": "cell-8555f90068b52a44",
     "locked": true,
     "schema_version": 3,
     "solution": false,
     "task": false
    }
   },
   "outputs": [],
   "source": [
    "# Initialisation Cell\n",
    "from matplotlib import pyplot as plt\n",
    "from IPython.display import display, HTML, Javascript\n",
    "from math import *\n",
    "import seaborn as sns\n",
    "import pandas as pd\n",
    "import numpy as np\n",
    "import numpy.testing as nt"
   ]
  },
  {
   "cell_type": "markdown",
   "id": "d8691e5a",
   "metadata": {
    "deletable": false,
    "editable": false,
    "nbgrader": {
     "cell_type": "markdown",
     "checksum": "b0c168f378eba7372e1d8a6b186fe84c",
     "grade": false,
     "grade_id": "cell-604831bb61a220b8",
     "locked": true,
     "schema_version": 3,
     "solution": false,
     "task": false
    }
   },
   "source": [
    "# Optimisation II - Lab 2\n",
    "\n",
    "\n",
    "## Instructions\n",
    "\n",
    "* Read all the instructions carefully.\n",
    "* **Numpy** has a help file for every function if you get stuck. See: https://docs.scipy.org/doc/numpy-1.14.5/reference/\n",
    "* See these useful links:\n",
    "    * https://docs.scipy.org/doc/numpy/user/numpy-for-matlab-users.html\n",
    "    * https://docs.scipy.org/doc/numpy/user/quickstart.html\n",
    "* **Numpy** is not always required.\n",
    "* There are also numerous sources available on the internet, Google is your friend!\n",
    "\n",
    "Developed by Dr M. Woolway and edited by Krupa Prag. "
   ]
  },
  {
   "cell_type": "markdown",
   "id": "96fffee2",
   "metadata": {
    "deletable": false,
    "editable": false,
    "nbgrader": {
     "cell_type": "markdown",
     "checksum": "37b627cb08ecda4082de5ab8faab5516",
     "grade": false,
     "grade_id": "cell-ee3daa58561ccdcd",
     "locked": true,
     "schema_version": 3,
     "solution": false,
     "task": false
    }
   },
   "source": [
    "### Question 2 (1 Mark)\n",
    "\n",
    "Write a function  that takes as input two positive integer scalars, $\\texttt{n}$ and $\\texttt{m}$, in that order. The function must create and return board, which is an n-by-m matrix. Every element of board is either 0 or 1. The first element, board(0,0) is 1. No direct neighbours in the matrix, vertically or horizontally, can be equal. That is, a 1 element cannot have 1 immediately preceding or following it in the same row or column."
   ]
  },
  {
   "cell_type": "code",
   "execution_count": 33,
   "id": "6728761e",
   "metadata": {
    "deletable": false,
    "nbgrader": {
     "cell_type": "code",
     "checksum": "60a8e039c4175a8517aa3a47433ae80c",
     "grade": false,
     "grade_id": "cell-a6ee6e1a52be2a1f",
     "locked": false,
     "schema_version": 3,
     "solution": true,
     "task": false
    }
   },
   "outputs": [],
   "source": [
    "def check_board(n, m):\n",
    "    \"\"\"\n",
    "    Inputs:\n",
    "        n, m: scalar integers\n",
    "    Outputs:\n",
    "        board: binary numpy matrix\n",
    "    \"\"\"\n",
    "    # YOUR CODE HERE\n",
    "    \n",
    "    array = np.zeros(n*m, dtype=int)\n",
    "    array[::2]=1\n",
    "    \n",
    "    return array.reshape(n,m)\n",
    "\n",
    "    raise NotImplementedError()"
   ]
  },
  {
   "cell_type": "code",
   "execution_count": 34,
   "id": "6281b120",
   "metadata": {
    "deletable": false,
    "editable": false,
    "nbgrader": {
     "cell_type": "code",
     "checksum": "02e5ff136e1bd509497dc0c095d15727",
     "grade": true,
     "grade_id": "cell-758afda387a26ce1",
     "locked": true,
     "points": 1,
     "schema_version": 3,
     "solution": false,
     "task": false
    }
   },
   "outputs": [
    {
     "name": "stdout",
     "output_type": "stream",
     "text": [
      "All Tests Passed!!!\n"
     ]
    }
   ],
   "source": [
    "# Run this test cell to check your code\n",
    "# Do not delete this cell\n",
    "test1 = np.array([[1., 0., 1., 0., 1.],\n",
    "                  [0., 1., 0., 1., 0.],\n",
    "                  [1., 0., 1., 0., 1.],\n",
    "                  [0., 1., 0., 1., 0.]])\n",
    "nt.assert_array_almost_equal(test1, check_board(4, 5), err_msg=\"Function Incorrect\")\n",
    "print('All Tests Passed!!!')"
   ]
  },
  {
   "cell_type": "markdown",
   "id": "9637c1fa",
   "metadata": {
    "deletable": false,
    "editable": false,
    "nbgrader": {
     "cell_type": "markdown",
     "checksum": "b0b5526d3d80a17593b8f922a09aa8cc",
     "grade": false,
     "grade_id": "cell-e834d7daa0de385a",
     "locked": true,
     "schema_version": 3,
     "solution": false,
     "task": false
    }
   },
   "source": [
    "### Question 3 (1 Mark)\n",
    "\n",
    "Write a function that takes three input arguments: $\\texttt{limit}$, $\\texttt{n}$, and $\\texttt{m}$, in that order. The function returns an n-by-m matrix of uniformly distributed random integers between 1 and limit inclusive.  You are not allowed to use randi, but you can use rand. You will also find the built-in function floor useful for obtaining integers. To make sure that your result is indeed uniformly distributed, test the output of the function by using the built-in function hist, which plots a histogram on larger inputs."
   ]
  },
  {
   "cell_type": "code",
   "execution_count": 35,
   "id": "b36e52d6",
   "metadata": {
    "deletable": false,
    "nbgrader": {
     "cell_type": "code",
     "checksum": "bd62e7dd81bc21b7faeca8295ce4b21b",
     "grade": false,
     "grade_id": "cell-da3241867a22aab7",
     "locked": false,
     "schema_version": 3,
     "solution": true,
     "task": false
    }
   },
   "outputs": [],
   "source": [
    "import random as random\n",
    "def random_dist(limit, n, m):\n",
    "    # YOUR CODE HERE\n",
    "    return [random.choices(range(1,limit), k=m)for _ in range(n)]\n",
    "\n",
    "    raise NotImplementedError()"
   ]
  },
  {
   "cell_type": "code",
   "execution_count": 36,
   "id": "6434b140",
   "metadata": {
    "deletable": false,
    "editable": false,
    "nbgrader": {
     "cell_type": "code",
     "checksum": "b272d2fa5cfd419e36fe6fc8cfc85da9",
     "grade": true,
     "grade_id": "cell-cdf31d49bdc2ef61",
     "locked": true,
     "points": 1,
     "schema_version": 3,
     "solution": false,
     "task": false
    }
   },
   "outputs": [
    {
     "name": "stdout",
     "output_type": "stream",
     "text": [
      "All Tests Passed!!!\n"
     ]
    }
   ],
   "source": [
    "# Run this test cell to check your code\n",
    "# Do not delete this cell\n",
    "test1 = random_dist(5, 5, 5)\n",
    "def isinteger(x):\n",
    "     return np.equal(np.mod(x, 1), 0)\n",
    "assert(np.all(isinteger(test1)) == True)\n",
    "print('All Tests Passed!!!')"
   ]
  },
  {
   "cell_type": "markdown",
   "id": "aea169a9",
   "metadata": {
    "deletable": false,
    "editable": false,
    "nbgrader": {
     "cell_type": "markdown",
     "checksum": "3860b085d0e965de7664ba49a7bfafd7",
     "grade": false,
     "grade_id": "cell-e0eccf9d1aa79339",
     "locked": true,
     "schema_version": 3,
     "solution": false,
     "task": false
    }
   },
   "source": [
    "# Main Exercises\n",
    "\n",
    "### Question 1 (3 Marks)\n",
    "\n",
    "Write a function that implements the Secant method. It should take as inputs the function handle $\\texttt{f}$ (derivative function), two initial guesses $x0, \\ x1$ and a tolerance $\\texttt{tol}$. The function should return the root of the function. Use the absolute difference to control your tolerance.\n",
    " "
   ]
  },
  {
   "cell_type": "code",
   "execution_count": 37,
   "id": "702dd02d",
   "metadata": {
    "deletable": false,
    "nbgrader": {
     "cell_type": "code",
     "checksum": "0b0831b347527f88006f265429e8c56c",
     "grade": false,
     "grade_id": "cell-be8be7d876524594",
     "locked": false,
     "schema_version": 3,
     "solution": true,
     "task": false
    }
   },
   "outputs": [],
   "source": [
    "def secant_min(f, x0, x1, tol):\n",
    "    \n",
    "    \"\"\"\n",
    "    Inputs:\n",
    "        f : a function handle\n",
    "        x0: an initial point - scalar\n",
    "        x1: a subsequent point - scalar\n",
    "        \n",
    "    Outputs:\n",
    "        x: root of function f - scalar\n",
    "    \"\"\"\n",
    "    while(abs(x0-x1)>tol):\n",
    "        x1_prev=x1\n",
    "        x1=x0-f(x0)*(x1-x0)/(f(x1)-f(x0))\n",
    "        x0=x1_prev\n",
    "    \n",
    "    return x0\n",
    "    # YOUR CODE HERE\n",
    "    raise NotImplementedError()"
   ]
  },
  {
   "cell_type": "code",
   "execution_count": 38,
   "id": "cfd483e6",
   "metadata": {
    "deletable": false,
    "editable": false,
    "nbgrader": {
     "cell_type": "code",
     "checksum": "eb32c4dabb2a63e396c956155999519e",
     "grade": true,
     "grade_id": "cell-c10a56da7c9af328",
     "locked": true,
     "points": 3,
     "schema_version": 3,
     "solution": false,
     "task": false
    },
    "scrolled": true
   },
   "outputs": [
    {
     "name": "stdout",
     "output_type": "stream",
     "text": [
      "All Tests Passed!!!\n"
     ]
    }
   ],
   "source": [
    "# Run this test cell to check your code\n",
    "# Do not delete this cell\n",
    "f   = lambda x: x**2 - 612\n",
    "x0  = 10\n",
    "x1  = 30\n",
    "tol = 10**(-5)\n",
    "nt.assert_almost_equal(24.738633753705965, secant_min(f, x0, x1, tol), err_msg='incorrect function')\n",
    "print('All Tests Passed!!!')"
   ]
  },
  {
   "cell_type": "markdown",
   "id": "8161a85e",
   "metadata": {
    "deletable": false,
    "editable": false,
    "nbgrader": {
     "cell_type": "markdown",
     "checksum": "c7c9f4a94ac0d7d9169ef9ce93406bea",
     "grade": false,
     "grade_id": "cell-9f514656788a696b",
     "locked": true,
     "schema_version": 3,
     "solution": false,
     "task": false
    }
   },
   "source": [
    "### Question 2 (4 Marks)\n",
    "\n",
    "Write a function that performs the Golden Search method. It should take in the function handle $\\texttt{f}$, the domain, $\\texttt{a}$, $\\texttt{b}$ and a tolerance $\\texttt{tol}$. It should return a both the function value at the minima and the minima itself. Use the absolute difference to control your tolerance."
   ]
  },
  {
   "cell_type": "code",
   "execution_count": 39,
   "id": "13908fa7",
   "metadata": {
    "deletable": false,
    "nbgrader": {
     "cell_type": "code",
     "checksum": "97b8a1ff2c7f52991b648a512a6abb0d",
     "grade": false,
     "grade_id": "cell-f7e3789958524bb4",
     "locked": false,
     "schema_version": 3,
     "solution": true,
     "task": false
    }
   },
   "outputs": [],
   "source": [
    "def golden_search(f, a, b, tol):\n",
    "    \"\"\"\n",
    "    Inputs:\n",
    "        f : a function handle\n",
    "        a : left endpoint - scalar\n",
    "        b : right endpoint - scalar\n",
    "        \n",
    "    Outputs:\n",
    "        out: np.array of xmin and f(xmin)\n",
    "    \"\"\"\n",
    "    # YOUR CODE HERE\n",
    "    goldenRatio = (sqrt(5) + 1) / 2\n",
    "    a_1 = b - (b - a) / goldenRatio\n",
    "    b_1 = a + (b - a) / goldenRatio\n",
    "    \n",
    "    while abs(b - a) > tol:\n",
    "        if f(a_1) > f(b_1):\n",
    "            a = a_1\n",
    "        else:\n",
    "            b = b_1\n",
    "        \n",
    "        b_1 = a + (b - a) / goldenRatio\n",
    "        a_1 = b - (b - a) / goldenRatio\n",
    "        \n",
    " \n",
    "    minVal = (b + a) / 2\n",
    "    minn = f(minVal)\n",
    "    return np.append(minVal,minn)\n",
    "    raise NotImplementedError()"
   ]
  },
  {
   "cell_type": "code",
   "execution_count": 40,
   "id": "6791e137",
   "metadata": {
    "deletable": false,
    "editable": false,
    "nbgrader": {
     "cell_type": "code",
     "checksum": "a3a7ebb260d840db303afa4f118ffdfc",
     "grade": true,
     "grade_id": "cell-9a107226a9b40cdb",
     "locked": true,
     "points": 4,
     "schema_version": 3,
     "solution": false,
     "task": false
    }
   },
   "outputs": [
    {
     "name": "stdout",
     "output_type": "stream",
     "text": [
      "All Tests Passed!!!\n"
     ]
    }
   ],
   "source": [
    "# Run this test cell to check your code\n",
    "# Do not delete this cell\n",
    "f = lambda x: x**4 - 14*x**3 + 60*x**2 - 70*x\n",
    "a = 0\n",
    "b = 2\n",
    "tol = 10**(-5)\n",
    "nt.assert_array_almost_equal(np.array([0.78088186, -24.36960157]), golden_search(f, a, b, tol), err_msg='incorrect function')\n",
    "print('All Tests Passed!!!')"
   ]
  },
  {
   "cell_type": "code",
   "execution_count": null,
   "id": "32de6aa1",
   "metadata": {},
   "outputs": [],
   "source": []
  }
 ],
 "metadata": {
  "kernelspec": {
   "display_name": "Python 3",
   "language": "python",
   "name": "python3"
  },
  "language_info": {
   "codemirror_mode": {
    "name": "ipython",
    "version": 3
   },
   "file_extension": ".py",
   "mimetype": "text/x-python",
   "name": "python",
   "nbconvert_exporter": "python",
   "pygments_lexer": "ipython3",
   "version": "3.8.8"
  }
 },
 "nbformat": 4,
 "nbformat_minor": 5
}
