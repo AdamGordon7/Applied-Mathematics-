{
 "cells": [
  {
   "cell_type": "code",
   "execution_count": 7,
   "id": "c5f2fa34",
   "metadata": {
    "deletable": false,
    "editable": false,
    "nbgrader": {
     "cell_type": "code",
     "checksum": "bbbbe72881b8cb272f0f71d87b91b0fb",
     "grade": false,
     "grade_id": "cell-bac2b1708a9c70ca",
     "locked": true,
     "schema_version": 3,
     "solution": false,
     "task": false
    }
   },
   "outputs": [],
   "source": [
    "# Initialisation Cell\n",
    "from matplotlib import pyplot as plt\n",
    "from IPython.display import display, HTML, Javascript\n",
    "from math import *\n",
    "import seaborn as sns\n",
    "import pandas as pd\n",
    "import numpy as np\n",
    "import numpy.testing as nt"
   ]
  },
  {
   "cell_type": "markdown",
   "id": "92307078",
   "metadata": {
    "deletable": false,
    "editable": false,
    "nbgrader": {
     "cell_type": "markdown",
     "checksum": "2de60ec229efe7e031d1ff2df7b0a3b7",
     "grade": false,
     "grade_id": "cell-0a4857db3ebc0011",
     "locked": true,
     "schema_version": 3,
     "solution": false,
     "task": false
    }
   },
   "source": [
    "# Optimisation II - Lab 1\n",
    "\n",
    "\n",
    "## Instructions\n",
    "\n",
    "* Carefully read all the instructions.\n",
    "* Do **NOT** change the file name/format upon submission. Please do not add or remove cells from the notebook. \n",
    "\n",
    "\n",
    "* **Numpy** has a help file for every function if you get stuck. See: https://docs.scipy.org/doc/numpy-1.14.5/reference/\n",
    "* See these useful links:\n",
    "    * https://docs.scipy.org/doc/numpy/user/numpy-for-matlab-users.html\n",
    "    * https://docs.scipy.org/doc/numpy/user/quickstart.html\n",
    "* **Numpy** is not always required.\n",
    "* There are also numerous sources available on the internet, Google is your friend!\n",
    "\n",
    "\n",
    "----\n",
    "This lab material has been created by Dr Matthew Woolway and has been edited by Krupa Prag. "
   ]
  },
  {
   "cell_type": "markdown",
   "id": "9715ad86",
   "metadata": {
    "deletable": false,
    "editable": false,
    "nbgrader": {
     "cell_type": "markdown",
     "checksum": "fe13a59fa017214f85687c052b511464",
     "grade": false,
     "grade_id": "cell-eaf5e9cf6cebf625",
     "locked": true,
     "schema_version": 3,
     "solution": false,
     "task": false
    }
   },
   "source": [
    "## Warm-up Exercises\n",
    "\n",
    "Complete the following warm-up tasks:"
   ]
  },
  {
   "cell_type": "markdown",
   "id": "15c4ae7c",
   "metadata": {
    "deletable": false,
    "editable": false,
    "nbgrader": {
     "cell_type": "markdown",
     "checksum": "8f61b78c68767f72d55d8e4b2d08a304",
     "grade": false,
     "grade_id": "cell-a9c6a0d3b081b501",
     "locked": true,
     "schema_version": 3,
     "solution": false,
     "task": false
    }
   },
   "source": [
    "### Question 1\n",
    "\n",
    "Write a function that will convert a decimal number to a binary number. The function must be able to handle a decimal of any length."
   ]
  },
  {
   "cell_type": "code",
   "execution_count": 157,
   "id": "2398cbec",
   "metadata": {
    "deletable": false,
    "nbgrader": {
     "cell_type": "code",
     "checksum": "2225d798453efc35be7167fadaab56b7",
     "grade": false,
     "grade_id": "cell-f681dcfdabd1c340",
     "locked": false,
     "schema_version": 3,
     "solution": true,
     "task": false
    }
   },
   "outputs": [],
   "source": [
    "def dec_to_bin(n):\n",
    "    \"\"\"\n",
    "    Inputs\n",
    "        n: a scalar real value\n",
    "    \n",
    "    Output\n",
    "        s: a binary string equal to n\n",
    "    \"\"\"\n",
    "     \n",
    "    return bin(n).replace(\"0b\",\"\")\n",
    "\n",
    "    raise NotImplementedError()"
   ]
  },
  {
   "cell_type": "code",
   "execution_count": 158,
   "id": "cd709290",
   "metadata": {
    "deletable": false,
    "editable": false,
    "nbgrader": {
     "cell_type": "code",
     "checksum": "a45e9a039e8e746836bd8f1514545657",
     "grade": true,
     "grade_id": "cell-8b4dd9309261d730",
     "locked": true,
     "points": 1,
     "schema_version": 3,
     "solution": false,
     "task": false
    }
   },
   "outputs": [
    {
     "name": "stdout",
     "output_type": "stream",
     "text": [
      "All Tests Passed!!!\n"
     ]
    }
   ],
   "source": [
    "# Run this test cell to check your code\n",
    "# Do not delete this cell\n",
    "nt.assert_string_equal('1101', dec_to_bin(13))\n",
    "print('All Tests Passed!!!')"
   ]
  },
  {
   "cell_type": "markdown",
   "id": "13edf81f",
   "metadata": {
    "deletable": false,
    "editable": false,
    "nbgrader": {
     "cell_type": "markdown",
     "checksum": "3c6a9ff12a0d28398f7ae2c71c18f31f",
     "grade": false,
     "grade_id": "cell-03c498caa548480b",
     "locked": true,
     "schema_version": 3,
     "solution": false,
     "task": false
    }
   },
   "source": [
    "### Question 2\n",
    "\n",
    "A string is simply an ordered collection of symbols selected from some alphabet and formed into a word; the length of a string is the number of symbols that it contains. An example of a length 21 DNA string (whose alphabet contains the symbols 'A', 'C', 'G', and 'T') is \"ATGCTTCAGAAAGGTCTTACG.\" Write a function that takes as input, a vector  $s$  and returns a vector of four integers counting the respective number of times that the symbols 'A', 'C', 'G', and 'T' occur in  $s$."
   ]
  },
  {
   "cell_type": "code",
   "execution_count": 21,
   "id": "1aecd668",
   "metadata": {
    "deletable": false,
    "nbgrader": {
     "cell_type": "code",
     "checksum": "addaf28cdb3d48858df45138e035ba16",
     "grade": false,
     "grade_id": "cell-d5af245d95802180",
     "locked": false,
     "schema_version": 3,
     "solution": true,
     "task": false
    }
   },
   "outputs": [],
   "source": [
    "def dna(s):\n",
    "    \"\"\"\n",
    "    Inputs\n",
    "    s: a string of DNA sequence\n",
    "    \n",
    "    Outputs\n",
    "    occ_seq: a list of the number of times A, C, G and T occur (in this order)\n",
    "    \"\"\"\n",
    "    # YOUR CODE HERE\n",
    "    a=0\n",
    "    c=0\n",
    "    g=0\n",
    "    t=0\n",
    "    \n",
    "    for i in s:\n",
    "        if i==\"A\":\n",
    "            a=a+1\n",
    "        elif i==\"C\":\n",
    "            c=c+1\n",
    "        elif i==\"G\":\n",
    "            g=g+1\n",
    "        else:\n",
    "            t=t+1\n",
    "    output=[]\n",
    "    output.append(a)\n",
    "    output.append(c)\n",
    "    output.append(g)\n",
    "    output.append(t)\n",
    "    \n",
    "    return output\n",
    "    raise NotImplementedError()"
   ]
  },
  {
   "cell_type": "code",
   "execution_count": 22,
   "id": "cfddf20a",
   "metadata": {
    "deletable": false,
    "editable": false,
    "nbgrader": {
     "cell_type": "code",
     "checksum": "5b4f875577d434ae4aae777f11df599b",
     "grade": true,
     "grade_id": "cell-4a1bf2aa574eae78",
     "locked": true,
     "points": 1,
     "schema_version": 3,
     "solution": false,
     "task": false
    }
   },
   "outputs": [
    {
     "name": "stdout",
     "output_type": "stream",
     "text": [
      "All Tests Passed!!!\n"
     ]
    }
   ],
   "source": [
    "# Run this test cell to check your code\n",
    "# Do not delete this cell\n",
    "s = 'ATGCTTCAGAAAGGTCTTACG'\n",
    "nt.assert_array_equal([6, 4, 5, 6], dna(s), err_msg='incorrect function')\n",
    "print('All Tests Passed!!!')"
   ]
  },
  {
   "cell_type": "markdown",
   "id": "a6c00fec",
   "metadata": {
    "deletable": false,
    "editable": false,
    "nbgrader": {
     "cell_type": "markdown",
     "checksum": "4cfc3b4666a307f270f8eebc7cb39627",
     "grade": false,
     "grade_id": "cell-d6826c0e2e984725",
     "locked": true,
     "schema_version": 3,
     "solution": false,
     "task": false
    }
   },
   "source": [
    "### Question 3\n",
    "\n",
    "Write a function that takes a matrix  $M$  as input and returns a matrix that contains only those elements of  $M$  that are in odd rows and columns."
   ]
  },
  {
   "cell_type": "code",
   "execution_count": 159,
   "id": "d5c1e5b8",
   "metadata": {
    "deletable": false,
    "nbgrader": {
     "cell_type": "code",
     "checksum": "9544d0ab9d88794b76cecc8b2e849946",
     "grade": false,
     "grade_id": "cell-69c21bb65ad03080",
     "locked": false,
     "schema_version": 3,
     "solution": true,
     "task": false
    }
   },
   "outputs": [],
   "source": [
    "def matrix_extraction(M):\n",
    "    \"\"\"\n",
    "    Inputs:\n",
    "        M: a random numpy matrix\n",
    "    \n",
    "    Outputs:\n",
    "        N: a matrix with the odd rows and columns of M only\n",
    "    \"\"\"\n",
    "    # YOUR CODE HERE\n",
    "\n",
    "    return M[::2, ::2]\n",
    "    raise NotImplementedError()"
   ]
  },
  {
   "cell_type": "code",
   "execution_count": 160,
   "id": "f82dd630",
   "metadata": {
    "deletable": false,
    "editable": false,
    "nbgrader": {
     "cell_type": "code",
     "checksum": "fa9b23d588b37b96152fc5d17959df23",
     "grade": true,
     "grade_id": "cell-5b4aae30c10f09e5",
     "locked": true,
     "points": 1,
     "schema_version": 3,
     "solution": false,
     "task": false
    }
   },
   "outputs": [
    {
     "name": "stdout",
     "output_type": "stream",
     "text": [
      "All Tests Passed!!!\n"
     ]
    }
   ],
   "source": [
    "# Run this test cell to check your code\n",
    "# Do not delete this cell\n",
    "M = np.array([[0.29977941, 0.05186872, 0.57587171, 0.56806655, 0.38424249],\n",
    "             [0.25568574, 0.53849314, 0.76387274, 0.29669909, 0.68029403],\n",
    "             [0.9338883,  0.44839289, 0.48052527, 0.60921226, 0.89123473],\n",
    "             [0.76114271, 0.61475746, 0.04465618, 0.85599524, 0.29450567],\n",
    "             [0.43419249, 0.04936524, 0.14366823, 0.30798834, 0.91016638]])\n",
    "N = np.array([[0.29977941, 0.57587171, 0.38424249],\n",
    "             [0.9338883,  0.48052527, 0.89123473],\n",
    "             [0.43419249, 0.14366823, 0.91016638]])\n",
    "nt.assert_array_almost_equal(N, matrix_extraction(M), err_msg='incorrect function')\n",
    "print('All Tests Passed!!!')"
   ]
  },
  {
   "cell_type": "markdown",
   "id": "647154d7",
   "metadata": {
    "deletable": false,
    "editable": false,
    "nbgrader": {
     "cell_type": "markdown",
     "checksum": "e99715ab98c387e86b31ad1af87d9209",
     "grade": false,
     "grade_id": "cell-f4869a5ccb9b2294",
     "locked": true,
     "schema_version": 3,
     "solution": false,
     "task": false
    }
   },
   "source": [
    "### Question 4\n",
    "\n",
    "Write a function that computes how much money we have. It takes a single input argument, a row vector  $c$, whose elements specify the number of five cent, 10 cent, 20 cent and 50 cent coins we have (in the order listed here). The output should be a scalar value of the total in Rands - not cents."
   ]
  },
  {
   "cell_type": "code",
   "execution_count": 104,
   "id": "6582b121",
   "metadata": {
    "deletable": false,
    "nbgrader": {
     "cell_type": "code",
     "checksum": "4027c97fc73f747e42560ee3895a8913",
     "grade": false,
     "grade_id": "cell-c7db43616c4a620a",
     "locked": false,
     "schema_version": 3,
     "solution": true,
     "task": false
    }
   },
   "outputs": [],
   "source": [
    "def rand_compute(c):\n",
    "    \"\"\"\n",
    "    Inputs\n",
    "        c: a list of the number of 5, 10, 20 and 50 cent coins\n",
    "        \n",
    "    Outputs\n",
    "        total: the scalar Rand value of all the coins in the list\n",
    "    \"\"\"\n",
    "    # YOUR CODE HERE\n",
    "    total=0\n",
    "    total+=(5*c[0])+(10*c[1])+(20*c[2])+(50*c[3])\n",
    "    return total/100\n",
    "        \n",
    "        \n",
    "    raise NotImplementedError()"
   ]
  },
  {
   "cell_type": "code",
   "execution_count": 105,
   "id": "d72b6a82",
   "metadata": {
    "deletable": false,
    "editable": false,
    "nbgrader": {
     "cell_type": "code",
     "checksum": "c2d1d354255d62379b4bb5e81d95b1dc",
     "grade": true,
     "grade_id": "cell-6b16bdce54b2aff2",
     "locked": true,
     "points": 1,
     "schema_version": 3,
     "solution": false,
     "task": false
    }
   },
   "outputs": [
    {
     "name": "stdout",
     "output_type": "stream",
     "text": [
      "All Tests Passed!!!\n"
     ]
    }
   ],
   "source": [
    "# Run this test cell to check your code\n",
    "# Do not delete this cell\n",
    "c = [0,1,0,2]\n",
    "nt.assert_equal(1.1, rand_compute(c), err_msg= 'incorrect function')\n",
    "print('All Tests Passed!!!')"
   ]
  },
  {
   "cell_type": "markdown",
   "id": "dd22a54c",
   "metadata": {
    "deletable": false,
    "editable": false,
    "nbgrader": {
     "cell_type": "markdown",
     "checksum": "5425832aa77243852e667238b223a770",
     "grade": false,
     "grade_id": "cell-9bc3d0d6c0031704",
     "locked": true,
     "schema_version": 3,
     "solution": false,
     "task": false
    }
   },
   "source": [
    "### Question 2\n",
    "\n",
    "Write a function which takes in as input an unordered vector of values. Your function should return a row vector ($1 \\times 3$) containing the minimum value, median value and maximum value (in this order). Do not use the builtin sort function. Look up sorting algorithms, *bubble sort* for example."
   ]
  },
  {
   "cell_type": "code",
   "execution_count": 151,
   "id": "2dea3bc3",
   "metadata": {
    "deletable": false,
    "nbgrader": {
     "cell_type": "code",
     "checksum": "ffd3590e3408d09a622883e88e8eae77",
     "grade": false,
     "grade_id": "cell-8fb8cee786fadba4",
     "locked": false,
     "schema_version": 3,
     "solution": true,
     "task": false
    }
   },
   "outputs": [],
   "source": [
    "def lst_arrange(x):\n",
    "    \"\"\"\n",
    "    Inputs:\n",
    "        x: an array of random integers\n",
    "    \n",
    "    Output:\n",
    "        vals: an array of 3 elements, in the order of min, median and max values of the input\n",
    "    \"\"\"\n",
    "    # YOUR CODE HERE\n",
    "    n = len(x)\n",
    "  \n",
    "    for i in range(n):\n",
    "        for j in range(0, n-i-1):\n",
    "            if x[j] > x[j+1] :\n",
    "                x[j], x[j+1] = x[j+1], x[j]\n",
    "    \n",
    "    out=[]\n",
    "    out.append(x[0])\n",
    "    out.append(x[(len(x)//2)])\n",
    "    out.append(x[len(x)-1])\n",
    "    return out\n",
    "                \n",
    "  \n",
    "    raise NotImplementedError()\n"
   ]
  },
  {
   "cell_type": "code",
   "execution_count": 152,
   "id": "c0473f3b",
   "metadata": {
    "deletable": false,
    "editable": false,
    "nbgrader": {
     "cell_type": "code",
     "checksum": "53c4a5011407db543650ff48e9879d48",
     "grade": true,
     "grade_id": "cell-a9eaa4b500f07787",
     "locked": true,
     "points": 2,
     "schema_version": 3,
     "solution": false,
     "task": false
    }
   },
   "outputs": [
    {
     "name": "stdout",
     "output_type": "stream",
     "text": [
      "All Tests Passed!!!\n"
     ]
    }
   ],
   "source": [
    "# Run this test cell to check your code\n",
    "# Do not delete this cell\n",
    "y = np.random.randint(1, 10, 5)\n",
    "nt.assert_array_almost_equal([np.min(y), np.median(y), np.max(y)], lst_arrange(y), err_msg= 'incorrect function')\n",
    "print('All Tests Passed!!!')\n"
   ]
  },
  {
   "cell_type": "markdown",
   "id": "21a7d381",
   "metadata": {
    "deletable": false,
    "editable": false,
    "nbgrader": {
     "cell_type": "markdown",
     "checksum": "8bd9fcf6972ba003fcd062631fefde0e",
     "grade": false,
     "grade_id": "cell-6f5be4dd58328d9c",
     "locked": true,
     "schema_version": 3,
     "solution": false,
     "task": false
    }
   },
   "source": [
    "### Question 3\n",
    "\n",
    "Write a function which takes as input an array of points, i.e. $[(x_1, y_1), (x_2, y_2), \\ldots]$. It should return as output, a smaller array containing the points of the Convex Hull vertices (ensure no duplicates). Finally, plot this Convex Hull and the original set of points on the same axes to determine if your function is doing as instructed. Some algorithms which can find the convex hull are *Andrew's monotone chain algorithm* and *gift wrapping*, there are others - choose whichever one you like."
   ]
  },
  {
   "cell_type": "code",
   "execution_count": 56,
   "id": "a4498a48",
   "metadata": {
    "deletable": false,
    "nbgrader": {
     "cell_type": "code",
     "checksum": "89da1d6d4f2d576cb743b1320eb9de74",
     "grade": false,
     "grade_id": "cell-fa9e52897e5c7b82",
     "locked": false,
     "schema_version": 3,
     "solution": true,
     "task": false
    }
   },
   "outputs": [],
   "source": [
    "def convex_hull(points):\n",
    "    \"\"\"\n",
    "    Input: \n",
    "        points: an array of coordinates, i.e. [(x1, y1), (x2, y2), (x3, y3), ....]\n",
    "    Output: \n",
    "        lst: a smaller array of coordinates, now only contain vertices of the hull with no duplicates\n",
    "    \"\"\"\n",
    "    # YOUR CODE HERE\n",
    "    points=sorted(set(points))\n",
    "    if len(points)<=1:\n",
    "        return points\n",
    "    \n",
    "    def cross(o,a,b):\n",
    "        return(a[0]-o[0])*(b[1]-o[1])-(a[1]-o[1])*(b[0]-o[0])\n",
    "    \n",
    "    lower=[]\n",
    "    for i in points:\n",
    "        while len(lower)>=2 and cross(lower[-2],lower[-1],i)<=0:\n",
    "            lower.pop()\n",
    "        lower.append(i)\n",
    "        \n",
    "    upper=[]\n",
    "    for i in reversed(points):\n",
    "        while len(upper)>=2 and cross(upper[-2],upper[-1],i)<=0:\n",
    "            upper.pop()\n",
    "        upper.append(i)\n",
    "        \n",
    "        \n",
    "   # x=points\n",
    "    #y=lower[:-1]+upper[:-1]\n",
    "    #plt.scatter(x,y)\n",
    "    #plt.scatter(y)\n",
    "    #plt.show\n",
    "    \n",
    "    xPoints=[]\n",
    "    yPoints=[]\n",
    "    for i in points:\n",
    "        xPoints.append(i[0])\n",
    "        yPoints.append(i[1])\n",
    "    plt.scatter(xPoints,yPoints)\n",
    "    \n",
    "    x=[]\n",
    "    y=[]\n",
    "    c=lower[:-1]+upper[:-1]\n",
    "    for i in c:\n",
    "        x.append(c[0])\n",
    "        y.append(c[1])\n",
    "    plt.scatter(x,y)\n",
    "    \n",
    "    return lower[:-1]+upper[:-1]\n",
    "    raise NotImplementedError()"
   ]
  },
  {
   "cell_type": "code",
   "execution_count": 57,
   "id": "28c0c9e1",
   "metadata": {
    "deletable": false,
    "editable": false,
    "nbgrader": {
     "cell_type": "code",
     "checksum": "cb4637fe3fd6fced8fc5c94061081431",
     "grade": true,
     "grade_id": "cell-7f3a868e12dec51f",
     "locked": true,
     "points": 4,
     "schema_version": 3,
     "solution": false,
     "task": false
    }
   },
   "outputs": [
    {
     "name": "stdout",
     "output_type": "stream",
     "text": [
      "All Tests Passed!!!\n"
     ]
    },
    {
     "data": {
      "image/png": "[encoded data removed]",
      "text/plain": [
       "<Figure size 432x288 with 1 Axes>"
      ]
     },
     "metadata": {
      "needs_background": "light"
     },
     "output_type": "display_data"
    }
   ],
   "source": [
    "# Run this test cell to check your code\n",
    "# Do not delete this cell\n",
    "\n",
    "assert sorted(convex_hull([(4, 82), (80, 43), (74, 67), (77, 83), (60, 41), (4, 6), (38, 23), \n",
    "                    (4, 19), (92, 70), (62, 74), (84, 30), (63, 22), (37, 45), (56, 81), \n",
    "                    (31, 19), (31, 0), (91, 48), (34, 22), (58, 72), (22, 78), (78, 28), \n",
    "                    (15, 15), (49, 89), (13, 39), (11, 68), (18, 28), (49, 61), (11, 35), \n",
    "                    (15, 6), (61, 22), (63, 82), (31, 39), (1, 50), (50, 74), (77, 67), \n",
    "                    (58, 83), (46, 42), (62, 24), (66, 39), (93, 11), (0, 47), (29, 94), \n",
    "                    (2, 60), (43, 83), (67, 97), (32, 59), (97, 73), (43, 72), (33, 85), \n",
    "                    (48, 87), (41, 48), (95, 0), (98, 28), (17, 70), (55, 26), (7, 23), \n",
    "                    (60, 31), (79, 89), (47, 2), (43, 34), (94, 84), (12, 92), (47, 69), \n",
    "                    (25, 67), (95, 90), (16, 31), (5, 58), (84, 71), (15, 6), (23, 12), \n",
    "                    (57, 48), (36, 59), (84, 61), (95, 18), (16, 66), (84, 94), (2, 5), \n",
    "                    (9, 5), (97, 77), (0, 58), (37, 17), (25, 70), (51, 42), (78, 63), \n",
    "                    (42, 70), (31, 63), (93, 9), (33, 10), (2, 46), (66, 68), (74, 57), \n",
    "                    (69, 93), (86, 76), (78, 73), (55, 22), (68, 41), (69, 43), (97, 5), \n",
    "                    (95, 22), (27, 89)])) == sorted([(0, 47), (2, 5), (31, 0), (95, 0), (97, 5), \n",
    "                                             (98, 28), (97, 77), (95, 90), (84, 94), (67, 97), \n",
    "                                             (29, 94), (12, 92), (4, 82), (0, 58)])\n",
    "print('All Tests Passed!!!')\n",
    "\n"
   ]
  },
  {
   "cell_type": "code",
   "execution_count": null,
   "id": "86d19008",
   "metadata": {},
   "outputs": [],
   "source": []
  }
 ],
 "metadata": {
  "kernelspec": {
   "display_name": "Python 3",
   "language": "python",
   "name": "python3"
  },
  "language_info": {
   "codemirror_mode": {
    "name": "ipython",
    "version": 3
   },
   "file_extension": ".py",
   "mimetype": "text/x-python",
   "name": "python",
   "nbconvert_exporter": "python",
   "pygments_lexer": "ipython3",
   "version": "3.8.8"
  }
 },
 "nbformat": 4,
 "nbformat_minor": 5
}
