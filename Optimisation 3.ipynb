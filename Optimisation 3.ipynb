{
 "cells": [
  {
   "cell_type": "code",
   "execution_count": 1,
   "id": "5f81a204",
   "metadata": {
    "deletable": false,
    "editable": false,
    "nbgrader": {
     "cell_type": "code",
     "checksum": "fc028b93c7c8da53144f5c6cf972acb3",
     "grade": false,
     "grade_id": "cell-aa7512b580ea299a",
     "locked": true,
     "schema_version": 3,
     "solution": false,
     "task": false
    }
   },
   "outputs": [],
   "source": [
    "# Initialisation Cell\n",
    "from matplotlib import pyplot as plt\n",
    "from IPython.display import display, HTML, Javascript\n",
    "from math import *\n",
    "import seaborn as sns\n",
    "import pandas as pd\n",
    "import numpy as np\n",
    "import numpy.testing as nt\n",
    "import time"
   ]
  },
  {
   "cell_type": "markdown",
   "id": "332bf0e9",
   "metadata": {
    "deletable": false,
    "editable": false,
    "nbgrader": {
     "cell_type": "markdown",
     "checksum": "580e53c267bb633d58b824b107885321",
     "grade": false,
     "grade_id": "cell-eb52a6daf1344d84",
     "locked": true,
     "schema_version": 3,
     "solution": false,
     "task": false
    }
   },
   "source": [
    "# Optimisation II - Lab 3\n",
    "\n",
    "\n",
    "## Instructions\n",
    "\n",
    "* Read all the instructions carefully.\n",
    "* **Numpy** has a help file for every function if you get stuck. See: https://docs.scipy.org/doc/numpy-1.14.5/reference/\n",
    "* See these useful links:\n",
    "    * https://docs.scipy.org/doc/numpy/user/numpy-for-matlab-users.html\n",
    "    * https://docs.scipy.org/doc/numpy/user/quickstart.html\n",
    "* **Numpy** is not always required.\n",
    "* There are also numerous sources available on the internet, Google is your friend!\n",
    "* To launch jupyter correctly in the labs using vmuser, type the following at the terminal:\n",
    "    `/usr/local/anaconda3/bin/jupyter-notebook`\n",
    "    \n",
    "Developed by Dr M. Woolway and edited by Krupa Prag.     "
   ]
  },
  {
   "cell_type": "markdown",
   "id": "a5e1f401",
   "metadata": {
    "deletable": false,
    "editable": false,
    "nbgrader": {
     "cell_type": "markdown",
     "checksum": "5f206d882c082a4e390b9411ffa113b7",
     "grade": false,
     "grade_id": "cell-ef25bfc88c121c07",
     "locked": true,
     "schema_version": 3,
     "solution": false,
     "task": false
    }
   },
   "source": [
    "## Warm-up Exercises\n",
    "\n",
    "\n",
    "\n",
    "### Question 1\n",
    "\n",
    "Write a function that called performs a multiplication table. The function takes in inputs, $n$ and $m$. The function outputs a $n\\times m$  matrix which is the resultant multiplication table. That is, the element at row $i$ and column $j$ equals to $i\\times j$. The function is also to have a second output which is the sum of all elements of the matrix.\n"
   ]
  },
  {
   "cell_type": "code",
   "execution_count": 10,
   "id": "747cfb5e",
   "metadata": {
    "deletable": false,
    "nbgrader": {
     "cell_type": "code",
     "checksum": "18ae0e824efa2828d7ffcbde1e14adea",
     "grade": false,
     "grade_id": "cell-4394ee0f7b563da6",
     "locked": false,
     "schema_version": 3,
     "solution": true,
     "task": false
    }
   },
   "outputs": [],
   "source": [
    "def multi_table(n, m):\n",
    "    # YOUR CODE HERE\n",
    "    size=(n,m)\n",
    "    arr=np.zeros(size)\n",
    "    sum_t=0\n",
    "    \n",
    "    for i in range(n):\n",
    "        for j in range(m):\n",
    "            arr[i][j]=(i+1)*(j+1)\n",
    "            sum_t+=(i+1)*(j+1)\n",
    "            \n",
    "    return arr, sum_t\n",
    "    \n",
    "    raise NotImplementedError()"
   ]
  },
  {
   "cell_type": "code",
   "execution_count": 11,
   "id": "c3c8b0a2",
   "metadata": {
    "deletable": false,
    "editable": false,
    "nbgrader": {
     "cell_type": "code",
     "checksum": "3990befdb02c0ef7a2f87bb7bee17d23",
     "grade": true,
     "grade_id": "cell-1642bed4110ddd77",
     "locked": true,
     "points": 1,
     "schema_version": 3,
     "solution": false,
     "task": false
    }
   },
   "outputs": [
    {
     "name": "stdout",
     "output_type": "stream",
     "text": [
      "All Tests Passed!!!\n"
     ]
    }
   ],
   "source": [
    "# Run this test cell to check your code\n",
    "# Do not delete this cell\n",
    "# 1 Mark\n",
    "o1 = np.array([[  1.,   2.,   3.,   4.,   5.,   6.,   7.,   8.,   9.,  10.],\n",
    "               [  2.,   4.,   6.,   8.,  10.,  12.,  14.,  16.,  18.,  20.],\n",
    "               [  3.,   6.,   9.,  12.,  15.,  18.,  21.,  24.,  27.,  30.],\n",
    "               [  4.,   8.,  12.,  16.,  20.,  24.,  28.,  32.,  36.,  40.],\n",
    "               [  5.,  10.,  15.,  20.,  25.,  30.,  35.,  40.,  45.,  50.],\n",
    "               [  6.,  12.,  18.,  24.,  30.,  36.,  42.,  48.,  54.,  60.],\n",
    "               [  7.,  14.,  21.,  28.,  35.,  42.,  49.,  56.,  63.,  70.],\n",
    "               [  8.,  16.,  24.,  32.,  40.,  48.,  56.,  64.,  72.,  80.],\n",
    "               [  9.,  18.,  27.,  36.,  45.,  54.,  63.,  72.,  81.,  90.],\n",
    "               [ 10.,  20.,  30.,  40.,  50.,  60.,  70.,  80.,  90., 100.],\n",
    "               [ 11.,  22.,  33.,  44.,  55.,  66.,  77.,  88.,  99., 110.],\n",
    "               [ 12.,  24.,  36.,  48.,  60.,  72.,  84.,  96., 108., 120.]])\n",
    "\n",
    "nt.assert_array_equal(o1, multi_table(12, 10)[0])\n",
    "print('All Tests Passed!!!')"
   ]
  },
  {
   "cell_type": "code",
   "execution_count": null,
   "id": "0e084a74",
   "metadata": {
    "deletable": false,
    "editable": false,
    "nbgrader": {
     "cell_type": "code",
     "checksum": "5c4cfea1fd68d0eb51f792aff69a1aa3",
     "grade": true,
     "grade_id": "cell-aac2c2ae551e8d77",
     "locked": true,
     "points": 1,
     "schema_version": 3,
     "solution": false,
     "task": false
    }
   },
   "outputs": [],
   "source": [
    "# Run this test cell to check your code\n",
    "# Do not delete this cell \n",
    "# 1 Mark\n",
    "nt.assert_array_equal(4290, multi_table(12, 10)[1])\n",
    "print('All Tests Passed!!!')"
   ]
  },
  {
   "cell_type": "markdown",
   "id": "ace2febe",
   "metadata": {
    "deletable": false,
    "editable": false,
    "nbgrader": {
     "cell_type": "markdown",
     "checksum": "a7b02f44934cbb23dd2db5648a898ceb",
     "grade": false,
     "grade_id": "cell-671697dc04e1c779",
     "locked": true,
     "schema_version": 3,
     "solution": false,
     "task": false
    }
   },
   "source": [
    "### Question 2\n",
    "\n",
    "Write a function that takes in three scalar inputs and returns these values in a single row vector of increasing order. The function may not use any builtin functions but must perform this task only using if statements (possibly nested)."
   ]
  },
  {
   "cell_type": "code",
   "execution_count": 77,
   "id": "1963a21f",
   "metadata": {
    "deletable": false,
    "nbgrader": {
     "cell_type": "code",
     "checksum": "6fdc1a5144697bcd156e9defc478da0a",
     "grade": false,
     "grade_id": "cell-c7a5cca9a972fb86",
     "locked": false,
     "schema_version": 3,
     "solution": true,
     "task": false
    }
   },
   "outputs": [],
   "source": [
    "def tri_sort(a, b, c):\n",
    "    # YOUR CODE HERE\n",
    "    arr=[a,b,c]\n",
    "    n=3\n",
    "        \n",
    "    if arr[0] > arr[1]:\n",
    "        arr[0], arr[1] = arr[1], arr[0]\n",
    "    \n",
    "    if arr[1] > arr[2]:\n",
    "        arr[1], arr[2] = arr[2], arr[1]\n",
    "    \n",
    "    if arr[0] > arr[1]:\n",
    "        arr[0], arr[1] = arr[1], arr[0]\n",
    "    \n",
    "                \n",
    "    return arr\n",
    "        \n",
    "        \n",
    "    raise NotImplementedError()"
   ]
  },
  {
   "cell_type": "code",
   "execution_count": 78,
   "id": "88c19413",
   "metadata": {
    "deletable": false,
    "editable": false,
    "nbgrader": {
     "cell_type": "code",
     "checksum": "c2bda5c33e3ff171b8892e1dece4cc1d",
     "grade": true,
     "grade_id": "cell-747781cad2b09589",
     "locked": true,
     "points": 1,
     "schema_version": 3,
     "solution": false,
     "task": false
    }
   },
   "outputs": [
    {
     "name": "stdout",
     "output_type": "stream",
     "text": [
      "All Tests Passed!!!\n"
     ]
    }
   ],
   "source": [
    "# Run this test cell to check your code\n",
    "# Do not delete this cell \n",
    "# 1 Mark\n",
    "nt.assert_array_equal(np.array([1, 5, 8]), tri_sort(5, 8, 1))\n",
    "print('All Tests Passed!!!')"
   ]
  },
  {
   "cell_type": "code",
   "execution_count": 79,
   "id": "85763d61",
   "metadata": {
    "deletable": false,
    "editable": false,
    "nbgrader": {
     "cell_type": "code",
     "checksum": "71605cddc11e8b6a190ff7a2a13b43ac",
     "grade": true,
     "grade_id": "cell-2fee2ba965de66e0",
     "locked": true,
     "points": 2,
     "schema_version": 3,
     "solution": false,
     "task": false
    }
   },
   "outputs": [],
   "source": [
    "# Run this test cell to check your code\n",
    "# Do not delete this cell \n",
    "# Hidden cases\n",
    "# 2 Marks\n"
   ]
  },
  {
   "cell_type": "markdown",
   "id": "9ec7475c",
   "metadata": {
    "deletable": false,
    "editable": false,
    "nbgrader": {
     "cell_type": "markdown",
     "checksum": "47033fb5299a9f77f752bc6a07cd6c53",
     "grade": false,
     "grade_id": "cell-b0d0b63841fd7722",
     "locked": true,
     "schema_version": 3,
     "solution": false,
     "task": false
    }
   },
   "source": [
    "### Question 3\n",
    "\n",
    "Write a function that takes in one input argument, $x$. If $x$ is an empty matrix, the function must return -1. If $x$ is a scalar it must return $0$. If $x$ is a vector it must return 1. Finally, if $x$ is none of these it must return 2. You may not use any builtin function such as `𝚒𝚜𝚜𝚌𝚊𝚕𝚊𝚛` etc.\n",
    "\n"
   ]
  },
  {
   "cell_type": "code",
   "execution_count": 289,
   "id": "06a025c0",
   "metadata": {
    "deletable": false,
    "nbgrader": {
     "cell_type": "code",
     "checksum": "e8a940b0263fc3aa0d4c8d0a7af5c9ea",
     "grade": false,
     "grade_id": "cell-2153840054d0d5f3",
     "locked": false,
     "schema_version": 3,
     "solution": true,
     "task": false
    }
   },
   "outputs": [],
   "source": [
    "def classifier(x):\n",
    "    # YOUR CODE HERE\n",
    "\n",
    "    \n",
    "    if len(x)!=0 and type(x[0])==int:\n",
    "        return 0\n",
    "    \n",
    "    if x.shape[0]==0:\n",
    "        return -1\n",
    "    \n",
    "    elif x.shape[0]==1:\n",
    "        return 1\n",
    "    \n",
    "    elif x.shape[0]>=2:\n",
    "        return 2\n",
    "    \n",
    "    raise NotImplementedError()"
   ]
  },
  {
   "cell_type": "code",
   "execution_count": 290,
   "id": "ad75a630",
   "metadata": {
    "deletable": false,
    "editable": false,
    "nbgrader": {
     "cell_type": "code",
     "checksum": "f7740c2ea786c0aa371c74a5d82e2011",
     "grade": true,
     "grade_id": "cell-d365fc705fd2023d",
     "locked": true,
     "points": 1,
     "schema_version": 3,
     "solution": false,
     "task": false
    }
   },
   "outputs": [
    {
     "name": "stdout",
     "output_type": "stream",
     "text": [
      "All Tests Passed!!!\n"
     ]
    }
   ],
   "source": [
    "# Run this test cell to check your code\n",
    "# Do not delete this cell \n",
    "# 2 Marks\n",
    "assert(2 == classifier(np.random.rand(2, 5)))\n",
    "print('All Tests Passed!!!')"
   ]
  },
  {
   "cell_type": "code",
   "execution_count": 291,
   "id": "86d7a949",
   "metadata": {
    "deletable": false,
    "editable": false,
    "nbgrader": {
     "cell_type": "code",
     "checksum": "df1b8522986d00f36067d416073c8ca9",
     "grade": true,
     "grade_id": "cell-bf61df143c7cd376",
     "locked": true,
     "points": 1,
     "schema_version": 3,
     "solution": false,
     "task": false
    }
   },
   "outputs": [
    {
     "name": "stdout",
     "output_type": "stream",
     "text": [
      "All Tests Passed!!!\n"
     ]
    }
   ],
   "source": [
    "# Run this test cell to check your code\n",
    "# Do not delete this cell \n",
    "# 1 Marks\n",
    "assert(1 == classifier(np.random.rand(1, 5)))\n",
    "print('All Tests Passed!!!')"
   ]
  },
  {
   "cell_type": "code",
   "execution_count": 292,
   "id": "f13425da",
   "metadata": {
    "deletable": false,
    "editable": false,
    "nbgrader": {
     "cell_type": "code",
     "checksum": "c39a40d4a31c20cae00d37a5d23bd9d3",
     "grade": true,
     "grade_id": "cell-4c1fe13eeb05f05d",
     "locked": true,
     "points": 2,
     "schema_version": 3,
     "solution": false,
     "task": false
    }
   },
   "outputs": [
    {
     "name": "stdout",
     "output_type": "stream",
     "text": [
      "All Tests Passed!!!\n"
     ]
    }
   ],
   "source": [
    "# Run this test cell to check your code\n",
    "# Do not delete this cell \n",
    "# 2 Marks\n",
    "assert(-1 == classifier(np.array([])))\n",
    "print('All Tests Passed!!!')"
   ]
  },
  {
   "cell_type": "code",
   "execution_count": 293,
   "id": "dedf1f4a",
   "metadata": {
    "deletable": false,
    "editable": false,
    "nbgrader": {
     "cell_type": "code",
     "checksum": "28d568a36d5fe1b78eab67d248d12175",
     "grade": true,
     "grade_id": "cell-ad56ef55fa2427fd",
     "locked": true,
     "points": 1,
     "schema_version": 3,
     "solution": false,
     "task": false
    }
   },
   "outputs": [
    {
     "name": "stdout",
     "output_type": "stream",
     "text": [
      "All Tests Passed!!!\n"
     ]
    }
   ],
   "source": [
    "# Run this test cell to check your code\n",
    "# Do not delete this cell \n",
    "# 1 Marks\n",
    "assert(0 == classifier([1]))\n",
    "print('All Tests Passed!!!')"
   ]
  },
  {
   "cell_type": "markdown",
   "id": "20e2991d",
   "metadata": {
    "deletable": false,
    "editable": false,
    "nbgrader": {
     "cell_type": "markdown",
     "checksum": "14def02f0788c1dd19a7ddcc5aeb9ebe",
     "grade": false,
     "grade_id": "cell-b76d910a19f8b899",
     "locked": true,
     "schema_version": 3,
     "solution": false,
     "task": false
    }
   },
   "source": [
    "## Main Exercises\n",
    "\n",
    "Complete the following problems:\n",
    "\n",
    "### Question 1\n",
    "\n",
    "Write a function `fixed_steepest_descent` which implements the method of Steepest Descent using a fixed step size. The function should take as inputs the multivariate function `f`, the gradient `g`, some initial guess `x`, the fixed step size `alpha` and some tolerance `tol`. Use `norm(x, 2)` to control your tolerance. The function should return the approximation to the minimum as well as the number of iterations required to find it.\n"
   ]
  },
  {
   "cell_type": "code",
   "execution_count": 212,
   "id": "d7ef4cf0",
   "metadata": {
    "deletable": false,
    "nbgrader": {
     "cell_type": "code",
     "checksum": "7ea5de38105f404e601f67e34ad30f18",
     "grade": false,
     "grade_id": "cell-7cc3cb283ab264ac",
     "locked": false,
     "schema_version": 3,
     "solution": true,
     "task": false
    }
   },
   "outputs": [],
   "source": [
    "def fixed_steepest_descent(f, g, x, alpha, tol):\n",
    "    # YOUR CODE HERE\n",
    "    \n",
    "    it=0\n",
    "    while(np.linalg.norm(x,2)>tol):\n",
    "        prev_x=x\n",
    "        x=x+(alpha*g(prev_x))\n",
    "        it+=1\n",
    "    \n",
    "    return x,it\n",
    "        \n",
    "        \n",
    "    raise NotImplementedError()"
   ]
  },
  {
   "cell_type": "code",
   "execution_count": 213,
   "id": "5ea24a5b",
   "metadata": {
    "deletable": false,
    "editable": false,
    "nbgrader": {
     "cell_type": "code",
     "checksum": "19b9aa14e6f3a4ba590fb1ed82cae8ba",
     "grade": true,
     "grade_id": "cell-d39033d610ff7c90",
     "locked": true,
     "points": 10,
     "schema_version": 3,
     "solution": false,
     "task": false
    }
   },
   "outputs": [
    {
     "name": "stdout",
     "output_type": "stream",
     "text": [
      "Test case passed!!!\n"
     ]
    }
   ],
   "source": [
    "# Run this test cell to check your code\n",
    "# Do not delete this cell \n",
    "# 10 Marks\n",
    "f1    = lambda x: 2*x[0]**2 + 3*x[1]**2\n",
    "g1    = lambda x: np.array([-4*x[0], -6*x[1]])\n",
    "x0    = np.array([1, 1]) \n",
    "alpha = 52/280\n",
    "tol   = 1e-5\n",
    "\n",
    "nt.assert_array_almost_equal([ 4.91552813e-06, -3.32604042e-09], fixed_steepest_descent(f1, g1, x0, alpha, tol)[0])\n",
    "print('Test case passed!!!')"
   ]
  },
  {
   "cell_type": "code",
   "execution_count": 214,
   "id": "76fdc738",
   "metadata": {
    "deletable": false,
    "editable": false,
    "nbgrader": {
     "cell_type": "code",
     "checksum": "aa9ac417d39d1c5d69b378111dadbce8",
     "grade": true,
     "grade_id": "cell-bb2827c0519a94eb",
     "locked": true,
     "points": 5,
     "schema_version": 3,
     "solution": false,
     "task": false
    }
   },
   "outputs": [
    {
     "name": "stdout",
     "output_type": "stream",
     "text": [
      "Test case passed!!!\n"
     ]
    }
   ],
   "source": [
    "# Run this test cell to check your code\n",
    "# Do not delete this cell \n",
    "# 5 Marks\n",
    "f1    = lambda x: 2*x[0]**2 + 3*x[1]**2\n",
    "g1    = lambda x: np.array([-4*x[0], -6*x[1]])\n",
    "x0    = np.array([1, 1]) \n",
    "alpha = 52/280\n",
    "tol   = 1e-5\n",
    "\n",
    "assert(9 == fixed_steepest_descent(f1, g1, x0, alpha, tol)[1])\n",
    "print('Test case passed!!!')"
   ]
  },
  {
   "cell_type": "code",
   "execution_count": null,
   "id": "5fb90bd9",
   "metadata": {},
   "outputs": [],
   "source": []
  }
 ],
 "metadata": {
  "kernelspec": {
   "display_name": "Python 3",
   "language": "python",
   "name": "python3"
  },
  "language_info": {
   "codemirror_mode": {
    "name": "ipython",
    "version": 3
   },
   "file_extension": ".py",
   "mimetype": "text/x-python",
   "name": "python",
   "nbconvert_exporter": "python",
   "pygments_lexer": "ipython3",
   "version": "3.8.8"
  }
 },
 "nbformat": 4,
 "nbformat_minor": 5
}
